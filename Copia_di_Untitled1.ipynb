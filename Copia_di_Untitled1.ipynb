{
  "nbformat": 4,
  "nbformat_minor": 0,
  "metadata": {
    "colab": {
      "provenance": [],
      "authorship_tag": "ABX9TyNvawgpmOM2tvTxZziNL0Ux",
      "include_colab_link": true
    },
    "kernelspec": {
      "name": "python3",
      "display_name": "Python 3"
    },
    "language_info": {
      "name": "python"
    }
  },
  "cells": [
    {
      "cell_type": "markdown",
      "metadata": {
        "id": "view-in-github",
        "colab_type": "text"
      },
      "source": [
        "<a href=\"https://colab.research.google.com/github/Elenacola/Big_data/blob/main/Copia_di_Untitled1.ipynb\" target=\"_parent\"><img src=\"https://colab.research.google.com/assets/colab-badge.svg\" alt=\"Open In Colab\"/></a>"
      ]
    },
    {
      "cell_type": "markdown",
      "source": [
        "**LE DIFFERENZE TRA I TRE TIPI DI FIORI **"
      ],
      "metadata": {
        "id": "Hd6ACVEdj26y"
      }
    },
    {
      "cell_type": "code",
      "source": [
        "##MOSTRO IL DATASET"
      ],
      "metadata": {
        "id": "eOhag7nCqqQ_"
      },
      "execution_count": null,
      "outputs": []
    },
    {
      "cell_type": "code",
      "source": [
        "import numpy as np\n",
        "import pandas as pd\n",
        "import matplotlib.pyplot as plt\n",
        "from sklearn import linear_model\n",
        "import scipy.stats as stats\n",
        "import seaborn as sns\n",
        "\n",
        "\n",
        "\n",
        "\n",
        "dataset = pd.read_csv('https://raw.githubusercontent.com/mwaskom/seaborn-data/master/iris.csv')\n",
        "print(dataset)"
      ],
      "metadata": {
        "colab": {
          "base_uri": "https://localhost:8080/"
        },
        "id": "_eWE-2--qqW8",
        "outputId": "891521ee-53ee-4668-dac9-00b4c3cb47b6"
      },
      "execution_count": null,
      "outputs": [
        {
          "output_type": "stream",
          "name": "stdout",
          "text": [
            "     sepal_length  sepal_width  petal_length  petal_width    species\n",
            "0             5.1          3.5           1.4          0.2     setosa\n",
            "1             4.9          3.0           1.4          0.2     setosa\n",
            "2             4.7          3.2           1.3          0.2     setosa\n",
            "3             4.6          3.1           1.5          0.2     setosa\n",
            "4             5.0          3.6           1.4          0.2     setosa\n",
            "..            ...          ...           ...          ...        ...\n",
            "145           6.7          3.0           5.2          2.3  virginica\n",
            "146           6.3          2.5           5.0          1.9  virginica\n",
            "147           6.5          3.0           5.2          2.0  virginica\n",
            "148           6.2          3.4           5.4          2.3  virginica\n",
            "149           5.9          3.0           5.1          1.8  virginica\n",
            "\n",
            "[150 rows x 5 columns]\n"
          ]
        }
      ]
    },
    {
      "cell_type": "markdown",
      "source": [
        "**Analysis**\n",
        "We will analyse the follow step:\n",
        "\n",
        "1.   The target variable species\n",
        "2.   Variable types petal (width & length)\n",
        "-Missing data\n",
        "\n",
        "**Exploratory Data Analysis**\n",
        "\n",
        "Quante  classi di fiori ci sono?:\n",
        "Iris setosa;\n",
        "Iris virginica;\n",
        "Iris versicolor;\n",
        "\n",
        "(lo vedo dal grafico sulla specie)\n",
        "\n",
        "**Quali sono le loro caratteristiche ??**\n",
        "4 caratteristiche(features):\n",
        "\n",
        "Lunghezza del sepalo/\n",
        "Larghezza del sepalo/\n",
        "Lunghezza del petalo/\n",
        "Larghezza del petalo/\n",
        "\n",
        "(lo vedo dall'intestazione colonna dataset)"
      ],
      "metadata": {
        "id": "666Q1A-WLBRC"
      }
    },
    {
      "cell_type": "markdown",
      "source": [
        "OPERAZIONI PRELIMINARI SUL DATASET (non è stata applicata la correzione dello schema)"
      ],
      "metadata": {
        "id": "pGSNCHzwNbjp"
      }
    },
    {
      "cell_type": "code",
      "source": [
        "pd.pandas.set_option('display.max_columns', None)"
      ],
      "metadata": {
        "id": "xxTlXlX5L861"
      },
      "execution_count": null,
      "outputs": []
    },
    {
      "cell_type": "code",
      "source": [
        "\n",
        "dataset = pd.read_csv('https://raw.githubusercontent.com/mwaskom/seaborn-data/master/iris.csv')\n",
        "print(dataset.shape)"
      ],
      "metadata": {
        "colab": {
          "base_uri": "https://localhost:8080/"
        },
        "id": "JIF_FSAyNA7P",
        "outputId": "7806e691-8489-42a3-ef30-b9f35a62650b"
      },
      "execution_count": null,
      "outputs": [
        {
          "output_type": "stream",
          "name": "stdout",
          "text": [
            "(150, 5)\n"
          ]
        }
      ]
    },
    {
      "cell_type": "code",
      "source": [
        "dataset.head()"
      ],
      "metadata": {
        "colab": {
          "base_uri": "https://localhost:8080/",
          "height": 215
        },
        "id": "P7s7uKiJNL2E",
        "outputId": "507972e3-bd20-4389-8ff2-15e99458478b"
      },
      "execution_count": null,
      "outputs": [
        {
          "output_type": "execute_result",
          "data": {
            "text/plain": [
              "   sepal_length  sepal_width  petal_length  petal_width species\n",
              "0           5.1          3.5           1.4          0.2  setosa\n",
              "1           4.9          3.0           1.4          0.2  setosa\n",
              "2           4.7          3.2           1.3          0.2  setosa\n",
              "3           4.6          3.1           1.5          0.2  setosa\n",
              "4           5.0          3.6           1.4          0.2  setosa"
            ],
            "text/html": [
              "\n",
              "  <div id=\"df-e21c24cd-02f2-464a-8f26-67d538d4a8a6\">\n",
              "    <div class=\"colab-df-container\">\n",
              "      <div>\n",
              "<style scoped>\n",
              "    .dataframe tbody tr th:only-of-type {\n",
              "        vertical-align: middle;\n",
              "    }\n",
              "\n",
              "    .dataframe tbody tr th {\n",
              "        vertical-align: top;\n",
              "    }\n",
              "\n",
              "    .dataframe thead th {\n",
              "        text-align: right;\n",
              "    }\n",
              "</style>\n",
              "<table border=\"1\" class=\"dataframe\">\n",
              "  <thead>\n",
              "    <tr style=\"text-align: right;\">\n",
              "      <th></th>\n",
              "      <th>sepal_length</th>\n",
              "      <th>sepal_width</th>\n",
              "      <th>petal_length</th>\n",
              "      <th>petal_width</th>\n",
              "      <th>species</th>\n",
              "    </tr>\n",
              "  </thead>\n",
              "  <tbody>\n",
              "    <tr>\n",
              "      <th>0</th>\n",
              "      <td>5.1</td>\n",
              "      <td>3.5</td>\n",
              "      <td>1.4</td>\n",
              "      <td>0.2</td>\n",
              "      <td>setosa</td>\n",
              "    </tr>\n",
              "    <tr>\n",
              "      <th>1</th>\n",
              "      <td>4.9</td>\n",
              "      <td>3.0</td>\n",
              "      <td>1.4</td>\n",
              "      <td>0.2</td>\n",
              "      <td>setosa</td>\n",
              "    </tr>\n",
              "    <tr>\n",
              "      <th>2</th>\n",
              "      <td>4.7</td>\n",
              "      <td>3.2</td>\n",
              "      <td>1.3</td>\n",
              "      <td>0.2</td>\n",
              "      <td>setosa</td>\n",
              "    </tr>\n",
              "    <tr>\n",
              "      <th>3</th>\n",
              "      <td>4.6</td>\n",
              "      <td>3.1</td>\n",
              "      <td>1.5</td>\n",
              "      <td>0.2</td>\n",
              "      <td>setosa</td>\n",
              "    </tr>\n",
              "    <tr>\n",
              "      <th>4</th>\n",
              "      <td>5.0</td>\n",
              "      <td>3.6</td>\n",
              "      <td>1.4</td>\n",
              "      <td>0.2</td>\n",
              "      <td>setosa</td>\n",
              "    </tr>\n",
              "  </tbody>\n",
              "</table>\n",
              "</div>\n",
              "      <button class=\"colab-df-convert\" onclick=\"convertToInteractive('df-e21c24cd-02f2-464a-8f26-67d538d4a8a6')\"\n",
              "              title=\"Convert this dataframe to an interactive table.\"\n",
              "              style=\"display:none;\">\n",
              "        \n",
              "  <svg xmlns=\"http://www.w3.org/2000/svg\" height=\"24px\"viewBox=\"0 0 24 24\"\n",
              "       width=\"24px\">\n",
              "    <path d=\"M0 0h24v24H0V0z\" fill=\"none\"/>\n",
              "    <path d=\"M18.56 5.44l.94 2.06.94-2.06 2.06-.94-2.06-.94-.94-2.06-.94 2.06-2.06.94zm-11 1L8.5 8.5l.94-2.06 2.06-.94-2.06-.94L8.5 2.5l-.94 2.06-2.06.94zm10 10l.94 2.06.94-2.06 2.06-.94-2.06-.94-.94-2.06-.94 2.06-2.06.94z\"/><path d=\"M17.41 7.96l-1.37-1.37c-.4-.4-.92-.59-1.43-.59-.52 0-1.04.2-1.43.59L10.3 9.45l-7.72 7.72c-.78.78-.78 2.05 0 2.83L4 21.41c.39.39.9.59 1.41.59.51 0 1.02-.2 1.41-.59l7.78-7.78 2.81-2.81c.8-.78.8-2.07 0-2.86zM5.41 20L4 18.59l7.72-7.72 1.47 1.35L5.41 20z\"/>\n",
              "  </svg>\n",
              "      </button>\n",
              "      \n",
              "  <style>\n",
              "    .colab-df-container {\n",
              "      display:flex;\n",
              "      flex-wrap:wrap;\n",
              "      gap: 12px;\n",
              "    }\n",
              "\n",
              "    .colab-df-convert {\n",
              "      background-color: #E8F0FE;\n",
              "      border: none;\n",
              "      border-radius: 50%;\n",
              "      cursor: pointer;\n",
              "      display: none;\n",
              "      fill: #1967D2;\n",
              "      height: 32px;\n",
              "      padding: 0 0 0 0;\n",
              "      width: 32px;\n",
              "    }\n",
              "\n",
              "    .colab-df-convert:hover {\n",
              "      background-color: #E2EBFA;\n",
              "      box-shadow: 0px 1px 2px rgba(60, 64, 67, 0.3), 0px 1px 3px 1px rgba(60, 64, 67, 0.15);\n",
              "      fill: #174EA6;\n",
              "    }\n",
              "\n",
              "    [theme=dark] .colab-df-convert {\n",
              "      background-color: #3B4455;\n",
              "      fill: #D2E3FC;\n",
              "    }\n",
              "\n",
              "    [theme=dark] .colab-df-convert:hover {\n",
              "      background-color: #434B5C;\n",
              "      box-shadow: 0px 1px 3px 1px rgba(0, 0, 0, 0.15);\n",
              "      filter: drop-shadow(0px 1px 2px rgba(0, 0, 0, 0.3));\n",
              "      fill: #FFFFFF;\n",
              "    }\n",
              "  </style>\n",
              "\n",
              "      <script>\n",
              "        const buttonEl =\n",
              "          document.querySelector('#df-e21c24cd-02f2-464a-8f26-67d538d4a8a6 button.colab-df-convert');\n",
              "        buttonEl.style.display =\n",
              "          google.colab.kernel.accessAllowed ? 'block' : 'none';\n",
              "\n",
              "        async function convertToInteractive(key) {\n",
              "          const element = document.querySelector('#df-e21c24cd-02f2-464a-8f26-67d538d4a8a6');\n",
              "          const dataTable =\n",
              "            await google.colab.kernel.invokeFunction('convertToInteractive',\n",
              "                                                     [key], {});\n",
              "          if (!dataTable) return;\n",
              "\n",
              "          const docLinkHtml = 'Like what you see? Visit the ' +\n",
              "            '<a target=\"_blank\" href=https://colab.research.google.com/notebooks/data_table.ipynb>data table notebook</a>'\n",
              "            + ' to learn more about interactive tables.';\n",
              "          element.innerHTML = '';\n",
              "          dataTable['output_type'] = 'display_data';\n",
              "          await google.colab.output.renderOutput(dataTable, element);\n",
              "          const docLink = document.createElement('div');\n",
              "          docLink.innerHTML = docLinkHtml;\n",
              "          element.appendChild(docLink);\n",
              "        }\n",
              "      </script>\n",
              "    </div>\n",
              "  </div>\n",
              "  "
            ]
          },
          "metadata": {},
          "execution_count": 9
        }
      ]
    },
    {
      "cell_type": "markdown",
      "source": [
        "ISTOGRAMMA PER LA DISTRIBUZIONE DELLA SPECIE"
      ],
      "metadata": {
        "id": "9cc9GTnIP6Be"
      }
    },
    {
      "cell_type": "code",
      "source": [
        "dataset['species'].hist(bins=50, density=True)\n",
        "plt.ylabel('sepal_lenght')\n",
        "plt.xlabel('sepal_width')\n",
        "plt.show()"
      ],
      "metadata": {
        "colab": {
          "base_uri": "https://localhost:8080/",
          "height": 280
        },
        "id": "aRlLilC3Pkje",
        "outputId": "71b1835d-ddd9-44a6-c522-a6ff32cd5711"
      },
      "execution_count": null,
      "outputs": [
        {
          "output_type": "display_data",
          "data": {
            "text/plain": [
              "<Figure size 432x288 with 1 Axes>"
            ],
            "image/png": "[encoded data removed]"
          },
          "metadata": {
            "needs_background": "light"
          }
        }
      ]
    },
    {
      "cell_type": "markdown",
      "source": [
        "controllo se ci sono valori mancanti non classificabili"
      ],
      "metadata": {
        "id": "kzDM41xzQ7SL"
      }
    },
    {
      "cell_type": "code",
      "source": [
        "\n",
        "vars_with_na = [var for var in dataset.columns if dataset[var].isnull().sum() > 0]"
      ],
      "metadata": {
        "id": "p-b77TyVQPeS"
      },
      "execution_count": null,
      "outputs": []
    },
    {
      "cell_type": "code",
      "source": [
        "dataset[vars_with_na].isnull().mean().sort_values(ascending=False)"
      ],
      "metadata": {
        "colab": {
          "base_uri": "https://localhost:8080/"
        },
        "id": "Nfzj81SdQi1x",
        "outputId": "e6fb6d9f-fe24-454a-cc65-50c94ee990f1"
      },
      "execution_count": null,
      "outputs": [
        {
          "output_type": "execute_result",
          "data": {
            "text/plain": [
              "Series([], dtype: float64)"
            ]
          },
          "metadata": {},
          "execution_count": 18
        }
      ]
    },
    {
      "cell_type": "markdown",
      "source": [
        "il nostro dataset non contiene valori mancanti"
      ],
      "metadata": {
        "id": "UdBiF08HQ23x"
      }
    },
    {
      "cell_type": "code",
      "source": [],
      "metadata": {
        "id": "kHVdkqALV9V9"
      },
      "execution_count": null,
      "outputs": []
    },
    {
      "cell_type": "markdown",
      "source": [
        "**Voglio vedere Quante specie setore ci sono**"
      ],
      "metadata": {
        "id": "z6TD5qAKW6lk"
      }
    },
    {
      "cell_type": "markdown",
      "source": [],
      "metadata": {
        "id": "LnUUhxHmW0Q0"
      }
    },
    {
      "cell_type": "code",
      "source": [
        "dataset [dataset[\"species\"]=='setosa']\n",
        "dataset [\"species\"].value_counts()"
      ],
      "metadata": {
        "colab": {
          "base_uri": "https://localhost:8080/"
        },
        "id": "PogGBsgAV_-y",
        "outputId": "d3fe624c-8c96-4827-c1a2-5a7bfde67d3c"
      },
      "execution_count": null,
      "outputs": [
        {
          "output_type": "execute_result",
          "data": {
            "text/plain": [
              "setosa        50\n",
              "versicolor    50\n",
              "virginica     50\n",
              "Name: species, dtype: int64"
            ]
          },
          "metadata": {},
          "execution_count": 27
        }
      ]
    },
    {
      "cell_type": "code",
      "source": [
        "dataset [dataset[\"species\"]=='setosa']\n",
        "dataset [\"species\"].value_counts()\n",
        "pd.plotting.scatter_matrix(dataset)"
      ],
      "metadata": {
        "colab": {
          "base_uri": "https://localhost:8080/",
          "height": 573
        },
        "id": "9_eWjuq7eO0-",
        "outputId": "2d0d83f9-e978-4691-ae28-fd31447fef4e"
      },
      "execution_count": null,
      "outputs": [
        {
          "output_type": "execute_result",
          "data": {
            "text/plain": [
              "array([[<matplotlib.axes._subplots.AxesSubplot object at 0x7fc5f58c34c0>,\n",
              "        <matplotlib.axes._subplots.AxesSubplot object at 0x7fc5f58ee4f0>,\n",
              "        <matplotlib.axes._subplots.AxesSubplot object at 0x7fc5f5847730>,\n",
              "        <matplotlib.axes._subplots.AxesSubplot object at 0x7fc5f5873e80>],\n",
              "       [<matplotlib.axes._subplots.AxesSubplot object at 0x7fc5f58285e0>,\n",
              "        <matplotlib.axes._subplots.AxesSubplot object at 0x7fc5f57d4c40>,\n",
              "        <matplotlib.axes._subplots.AxesSubplot object at 0x7fc5f57d4d30>,\n",
              "        <matplotlib.axes._subplots.AxesSubplot object at 0x7fc5f578b4f0>],\n",
              "       [<matplotlib.axes._subplots.AxesSubplot object at 0x7fc5f576a2e0>,\n",
              "        <matplotlib.axes._subplots.AxesSubplot object at 0x7fc5f5716a00>,\n",
              "        <matplotlib.axes._subplots.AxesSubplot object at 0x7fc5f56cb160>,\n",
              "        <matplotlib.axes._subplots.AxesSubplot object at 0x7fc5f5e6d700>],\n",
              "       [<matplotlib.axes._subplots.AxesSubplot object at 0x7fc5f5b4cbb0>,\n",
              "        <matplotlib.axes._subplots.AxesSubplot object at 0x7fc5f5bf2370>,\n",
              "        <matplotlib.axes._subplots.AxesSubplot object at 0x7fc5f5964700>,\n",
              "        <matplotlib.axes._subplots.AxesSubplot object at 0x7fc5f5930a00>]],\n",
              "      dtype=object)"
            ]
          },
          "metadata": {},
          "execution_count": 40
        },
        {
          "output_type": "display_data",
          "data": {
            "text/plain": [
              "<Figure size 432x288 with 16 Axes>"
            ],
            "image/png": "[encoded data removed]"
          },
          "metadata": {}
        }
      ]
    },
    {
      "cell_type": "markdown",
      "source": [
        "RAFFINIAMO LO SCATTER PLOT: Creiamo due liste conteneti rispettivamente i valori X (petal_lenghth) e Y (petal_width)"
      ],
      "metadata": {
        "id": "1gVBlBKTwNzD"
      }
    },
    {
      "cell_type": "code",
      "source": [
        "\n",
        "df = pd.read_csv('https://raw.githubusercontent.com/mwaskom/seaborn-data/master/iris.csv')\n",
        "X = dataset['petal_length']\n",
        "Y = dataset['petal_width']\n",
        "\n",
        "plt.scatter(X,Y, label=\"Rapporto sulla dimensione del petalo\", marker=\"s\")\n",
        "plt.xlabel(\"petal_lengt\")\n",
        "plt.ylabel(\"petal_width\")\n",
        "plt.title(\"Rapporto dimensione del petalo\")\n",
        "plt.legend()\n",
        "\n",
        "plt.show()\n",
        "\n",
        "\n"
      ],
      "metadata": {
        "colab": {
          "base_uri": "https://localhost:8080/",
          "height": 296
        },
        "id": "Gwt1cBj0wcGr",
        "outputId": "4b995bf5-2f79-46cb-ecb2-86045008ea31"
      },
      "execution_count": 29,
      "outputs": [
        {
          "output_type": "display_data",
          "data": {
            "text/plain": [
              "<Figure size 432x288 with 1 Axes>"
            ],
            "image/png": "[encoded data removed]"
          },
          "metadata": {
            "needs_background": "light"
          }
        }
      ]
    }
  ]
}